{
  "nbformat": 4,
  "nbformat_minor": 0,
  "metadata": {
    "colab": {
      "provenance": []
    },
    "kernelspec": {
      "name": "python3",
      "display_name": "Python 3"
    },
    "language_info": {
      "name": "python"
    }
  },
  "cells": [
    {
      "cell_type": "markdown",
      "source": [
        "# 1. 아래의 데이터를 이용하여 공부한 내용을 바탕으로 문제 2개를 만들고 답하세요."
      ],
      "metadata": {
        "id": "MbDTRcUQrUS3"
      }
    },
    {
      "cell_type": "code",
      "source": [
        "import nltk\n",
        "nltk.download(\"book\", quiet=True)\n",
        "from nltk.book import *"
      ],
      "metadata": {
        "id": "PNjdc83Bqdpd",
        "colab": {
          "base_uri": "https://localhost:8080/"
        },
        "outputId": "16610e88-6aae-4251-b7f8-2323ec784783"
      },
      "execution_count": 1,
      "outputs": [
        {
          "output_type": "stream",
          "name": "stdout",
          "text": [
            "*** Introductory Examples for the NLTK Book ***\n",
            "Loading text1, ..., text9 and sent1, ..., sent9\n",
            "Type the name of the text or sentence to view it.\n",
            "Type: 'texts()' or 'sents()' to list the materials.\n",
            "text1: Moby Dick by Herman Melville 1851\n",
            "text2: Sense and Sensibility by Jane Austen 1811\n",
            "text3: The Book of Genesis\n",
            "text4: Inaugural Address Corpus\n",
            "text5: Chat Corpus\n",
            "text6: Monty Python and the Holy Grail\n",
            "text7: Wall Street Journal\n",
            "text8: Personals Corpus\n",
            "text9: The Man Who Was Thursday by G . K . Chesterton 1908\n"
          ]
        }
      ]
    },
    {
      "cell_type": "code",
      "source": [
        "# 파일 목록 확인\n",
        "nltk.corpus.gutenberg.fileids()"
      ],
      "metadata": {
        "colab": {
          "base_uri": "https://localhost:8080/"
        },
        "id": "K9xoXfKzrbKv",
        "outputId": "b6097556-b698-42c9-8a57-82eca7cf59aa"
      },
      "execution_count": 2,
      "outputs": [
        {
          "output_type": "execute_result",
          "data": {
            "text/plain": [
              "['austen-emma.txt',\n",
              " 'austen-persuasion.txt',\n",
              " 'austen-sense.txt',\n",
              " 'bible-kjv.txt',\n",
              " 'blake-poems.txt',\n",
              " 'bryant-stories.txt',\n",
              " 'burgess-busterbrown.txt',\n",
              " 'carroll-alice.txt',\n",
              " 'chesterton-ball.txt',\n",
              " 'chesterton-brown.txt',\n",
              " 'chesterton-thursday.txt',\n",
              " 'edgeworth-parents.txt',\n",
              " 'melville-moby_dick.txt',\n",
              " 'milton-paradise.txt',\n",
              " 'shakespeare-caesar.txt',\n",
              " 'shakespeare-hamlet.txt',\n",
              " 'shakespeare-macbeth.txt',\n",
              " 'whitman-leaves.txt']"
            ]
          },
          "metadata": {},
          "execution_count": 2
        }
      ]
    },
    {
      "cell_type": "code",
      "source": [
        "hamlet = nltk.corpus.gutenberg.raw('shakespeare-hamlet.txt')\n",
        "print(hamlet[:5000])"
      ],
      "metadata": {
        "colab": {
          "base_uri": "https://localhost:8080/"
        },
        "id": "jo9kzrrqqaNc",
        "outputId": "d918bcc6-5dcc-4a88-adbd-f7808b6f0561"
      },
      "execution_count": 3,
      "outputs": [
        {
          "output_type": "stream",
          "name": "stdout",
          "text": [
            "[The Tragedie of Hamlet by William Shakespeare 1599]\n",
            "\n",
            "\n",
            "Actus Primus. Scoena Prima.\n",
            "\n",
            "Enter Barnardo and Francisco two Centinels.\n",
            "\n",
            "  Barnardo. Who's there?\n",
            "  Fran. Nay answer me: Stand & vnfold\n",
            "your selfe\n",
            "\n",
            "   Bar. Long liue the King\n",
            "\n",
            "   Fran. Barnardo?\n",
            "  Bar. He\n",
            "\n",
            "   Fran. You come most carefully vpon your houre\n",
            "\n",
            "   Bar. 'Tis now strook twelue, get thee to bed Francisco\n",
            "\n",
            "   Fran. For this releefe much thankes: 'Tis bitter cold,\n",
            "And I am sicke at heart\n",
            "\n",
            "   Barn. Haue you had quiet Guard?\n",
            "  Fran. Not a Mouse stirring\n",
            "\n",
            "   Barn. Well, goodnight. If you do meet Horatio and\n",
            "Marcellus, the Riuals of my Watch, bid them make hast.\n",
            "Enter Horatio and Marcellus.\n",
            "\n",
            "  Fran. I thinke I heare them. Stand: who's there?\n",
            "  Hor. Friends to this ground\n",
            "\n",
            "   Mar. And Leige-men to the Dane\n",
            "\n",
            "   Fran. Giue you good night\n",
            "\n",
            "   Mar. O farwel honest Soldier, who hath relieu'd you?\n",
            "  Fra. Barnardo ha's my place: giue you goodnight.\n",
            "\n",
            "Exit Fran.\n",
            "\n",
            "  Mar. Holla Barnardo\n",
            "\n",
            "   Bar. Say, what is Horatio there?\n",
            "  Hor. A peece of him\n",
            "\n",
            "   Bar. Welcome Horatio, welcome good Marcellus\n",
            "\n",
            "   Mar. What, ha's this thing appear'd againe to night\n",
            "\n",
            "   Bar. I haue seene nothing\n",
            "\n",
            "   Mar. Horatio saies, 'tis but our Fantasie,\n",
            "And will not let beleefe take hold of him\n",
            "Touching this dreaded sight, twice seene of vs,\n",
            "Therefore I haue intreated him along\n",
            "With vs, to watch the minutes of this Night,\n",
            "That if againe this Apparition come,\n",
            "He may approue our eyes, and speake to it\n",
            "\n",
            "   Hor. Tush, tush, 'twill not appeare\n",
            "\n",
            "   Bar. Sit downe a-while,\n",
            "And let vs once againe assaile your eares,\n",
            "That are so fortified against our Story,\n",
            "What we two Nights haue seene\n",
            "\n",
            "   Hor. Well, sit we downe,\n",
            "And let vs heare Barnardo speake of this\n",
            "\n",
            "   Barn. Last night of all,\n",
            "When yond same Starre that's Westward from the Pole\n",
            "Had made his course t' illume that part of Heauen\n",
            "Where now it burnes, Marcellus and my selfe,\n",
            "The Bell then beating one\n",
            "\n",
            "   Mar. Peace, breake thee of:\n",
            "Enter the Ghost.\n",
            "\n",
            "Looke where it comes againe\n",
            "\n",
            "   Barn. In the same figure, like the King that's dead\n",
            "\n",
            "   Mar. Thou art a Scholler; speake to it Horatio\n",
            "\n",
            "   Barn. Lookes it not like the King? Marke it Horatio\n",
            "\n",
            "   Hora. Most like: It harrowes me with fear & wonder\n",
            "  Barn. It would be spoke too\n",
            "\n",
            "   Mar. Question it Horatio\n",
            "\n",
            "   Hor. What art thou that vsurp'st this time of night,\n",
            "Together with that Faire and Warlike forme\n",
            "In which the Maiesty of buried Denmarke\n",
            "Did sometimes march: By Heauen I charge thee speake\n",
            "\n",
            "   Mar. It is offended\n",
            "\n",
            "   Barn. See, it stalkes away\n",
            "\n",
            "   Hor. Stay: speake; speake: I Charge thee, speake.\n",
            "\n",
            "Exit the Ghost.\n",
            "\n",
            "  Mar. 'Tis gone, and will not answer\n",
            "\n",
            "   Barn. How now Horatio? You tremble & look pale:\n",
            "Is not this something more then Fantasie?\n",
            "What thinke you on't?\n",
            "  Hor. Before my God, I might not this beleeue\n",
            "Without the sensible and true auouch\n",
            "Of mine owne eyes\n",
            "\n",
            "   Mar. Is it not like the King?\n",
            "  Hor. As thou art to thy selfe,\n",
            "Such was the very Armour he had on,\n",
            "When th' Ambitious Norwey combatted:\n",
            "So frown'd he once, when in an angry parle\n",
            "He smot the sledded Pollax on the Ice.\n",
            "'Tis strange\n",
            "\n",
            "   Mar. Thus twice before, and iust at this dead houre,\n",
            "With Martiall stalke, hath he gone by our Watch\n",
            "\n",
            "   Hor. In what particular thought to work, I know not:\n",
            "But in the grosse and scope of my Opinion,\n",
            "This boades some strange erruption to our State\n",
            "\n",
            "   Mar. Good now sit downe, & tell me he that knowes\n",
            "Why this same strict and most obseruant Watch,\n",
            "So nightly toyles the subiect of the Land,\n",
            "And why such dayly Cast of Brazon Cannon\n",
            "And Forraigne Mart for Implements of warre:\n",
            "Why such impresse of Ship-wrights, whose sore Taske\n",
            "Do's not diuide the Sunday from the weeke,\n",
            "What might be toward, that this sweaty hast\n",
            "Doth make the Night ioynt-Labourer with the day:\n",
            "Who is't that can informe me?\n",
            "  Hor. That can I,\n",
            "At least the whisper goes so: Our last King,\n",
            "Whose Image euen but now appear'd to vs,\n",
            "Was (as you know) by Fortinbras of Norway,\n",
            "(Thereto prick'd on by a most emulate Pride)\n",
            "Dar'd to the Combate. In which, our Valiant Hamlet,\n",
            "(For so this side of our knowne world esteem'd him)\n",
            "Did slay this Fortinbras: who by a Seal'd Compact,\n",
            "Well ratified by Law, and Heraldrie,\n",
            "Did forfeite (with his life) all those his Lands\n",
            "Which he stood seiz'd on, to the Conqueror:\n",
            "Against the which, a Moity competent\n",
            "Was gaged by our King: which had return'd\n",
            "To the Inheritance of Fortinbras,\n",
            "Had he bin Vanquisher, as by the same Cou'nant\n",
            "And carriage of the Article designe,\n",
            "His fell to Hamlet. Now sir, young Fortinbras,\n",
            "Of vnimproued Mettle, hot and full,\n",
            "Hath in the skirts of Norway, heere and there,\n",
            "Shark'd vp a List of Landlesse Resolutes,\n",
            "For Foode and Diet, to some Enterprize\n",
            "That hath a stomacke in't: which is no other\n",
            "(And it doth well appeare vnto our State)\n",
            "But to recouer of vs by strong hand\n",
            "And termes Compulsatiue, those foresaid Lands\n",
            "So by his Father lost: and this (I take it)\n",
            "Is the maine Motiue of our Preparations,\n",
            "The Sourse of this our Watch, and the cheefe head\n",
            "Of this post-hast, and Romage in the Land.\n",
            "Enter Ghos\n"
          ]
        }
      ]
    },
    {
      "cell_type": "markdown",
      "source": [
        "### (1) 문제 1 : 셰익스피어 작품끼리의 코사인 유사도 구하기"
      ],
      "metadata": {
        "id": "iNftR22-riz3"
      }
    },
    {
      "cell_type": "code",
      "source": [
        "hamlet = nltk.corpus.gutenberg.raw('shakespeare-hamlet.txt')[:10000]\n",
        "caesar = nltk.corpus.gutenberg.raw('shakespeare-caesar.txt')[:10000]\n",
        "macbeth = nltk.corpus.gutenberg.raw('shakespeare-macbeth.txt')[:10000]\n",
        "\n",
        "documents = [hamlet, caesar, macbeth]"
      ],
      "metadata": {
        "id": "mLLGn_Rxrkxk"
      },
      "execution_count": 14,
      "outputs": []
    },
    {
      "cell_type": "code",
      "source": [
        "import numpy as np\n",
        "\n",
        "# 두 개의 넘파이 배열에 대한 코사인 유사도를 구하는 함수\n",
        "def cos_similarity(v1, v2):\n",
        "  dot_product = np.dot(v1, v2)\n",
        "  l2_norm = (np.sqrt(sum(np.square(v1))) * np.sqrt(sum(np.square(v2))))\n",
        "  similarity = dot_product / l2_norm\n",
        "\n",
        "  return similarity"
      ],
      "metadata": {
        "id": "kHeOY1IisC3c"
      },
      "execution_count": 15,
      "outputs": []
    },
    {
      "cell_type": "code",
      "source": [
        "from sklearn.feature_extraction.text import TfidfVectorizer\n",
        "\n",
        "tfidf_vect = TfidfVectorizer()\n",
        "\n",
        "# 희소행렬\n",
        "tfidf_matrix = tfidf_vect.fit_transform(documents)"
      ],
      "metadata": {
        "id": "d1fx6cd_r0IJ"
      },
      "execution_count": 16,
      "outputs": []
    },
    {
      "cell_type": "code",
      "source": [
        "# 희소 행렬 -> 밀집 행렬\n",
        "feature_vect_dense = tfidf_matrix.todense()\n",
        "\n",
        "# 데이터의 피처 벡터 추출\n",
        "vect1 = np.array(feature_vect_dense[0]).reshape(-1, )\n",
        "vect2 = np.array(feature_vect_dense[1]).reshape(-1, )\n",
        "vect3 = np.array(feature_vect_dense[2]).reshape(-1, )\n",
        "\n",
        "# 코사인 유사도\n",
        "similarity_simple = cos_similarity(vect1, vect2)\n",
        "print('hamlet, caesar Cosine 유사도 : {0:3f}'.format(similarity_simple))\n",
        "\n",
        "similarity_simple = cos_similarity(vect1, vect3)\n",
        "print('hamlet, macbeth Cosine 유사도 : {0:3f}'.format(similarity_simple))\n",
        "\n",
        "similarity_simple = cos_similarity(vect2, vect3)\n",
        "print('caesar, macbeth Cosine 유사도 : {0:3f}'.format(similarity_simple))"
      ],
      "metadata": {
        "colab": {
          "base_uri": "https://localhost:8080/"
        },
        "id": "B1-thKUUr0Fr",
        "outputId": "58cd3750-061c-4d54-b6e8-8145189b7812"
      },
      "execution_count": 17,
      "outputs": [
        {
          "output_type": "stream",
          "name": "stdout",
          "text": [
            "hamlet, caesar Cosine 유사도 : 0.710533\n",
            "hamlet, macbeth Cosine 유사도 : 0.725730\n",
            "caesar, macbeth Cosine 유사도 : 0.684116\n"
          ]
        }
      ]
    },
    {
      "cell_type": "markdown",
      "source": [
        "### (2) 문제 2 : sklearn.metrics.pairwise.cosine_similarity API를 이용해 문사 유사도 측정"
      ],
      "metadata": {
        "id": "F6fES2kkrmP0"
      }
    },
    {
      "cell_type": "code",
      "source": [
        "from sklearn.metrics.pairwise import cosine_similarity\n",
        "\n",
        "similarity_simple_pair = cosine_similarity(tfidf_matrix, tfidf_matrix)\n",
        "print(similarity_simple_pair)"
      ],
      "metadata": {
        "id": "a9vmAhP1rnIi",
        "colab": {
          "base_uri": "https://localhost:8080/"
        },
        "outputId": "a221a35c-50f3-4107-ddac-4130192c646f"
      },
      "execution_count": 21,
      "outputs": [
        {
          "output_type": "stream",
          "name": "stdout",
          "text": [
            "[[1.         0.71053304 0.72573028]\n",
            " [0.71053304 1.         0.68411595]\n",
            " [0.72573028 0.68411595 1.        ]]\n"
          ]
        }
      ]
    },
    {
      "cell_type": "markdown",
      "source": [
        "- 같은 결과가 나온다."
      ],
      "metadata": {
        "id": "PMjQyPsiw8Ph"
      }
    },
    {
      "cell_type": "markdown",
      "source": [
        "# 2. 조원들과 만든 문제와 답을 공유해보세요."
      ],
      "metadata": {
        "id": "2EvgMg6VsMz0"
      }
    },
    {
      "cell_type": "code",
      "source": [],
      "metadata": {
        "id": "a_l-4BAwsPlL"
      },
      "execution_count": null,
      "outputs": []
    }
  ]
}